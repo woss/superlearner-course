{
 "cells": [
  {
   "cell_type": "markdown",
   "metadata": {
    "slideshow": {
     "slide_type": "slide"
    }
   },
   "source": [
    "## First ever read of the text given by the course \n"
   ]
  },
  {
   "cell_type": "code",
   "execution_count": 31,
   "metadata": {
    "collapsed": true
   },
   "outputs": [],
   "source": [
    "%matplotlib inline\n",
    "import numpy as np\n",
    "import matplotlib.pyplot as plt"
   ]
  },
  {
   "cell_type": "code",
   "execution_count": 32,
   "metadata": {
    "collapsed": true,
    "slideshow": {
     "slide_type": "subslide"
    }
   },
   "outputs": [],
   "source": [
    "default_wpm = 520\n",
    "minute_in_seconds = 60\n",
    "reading_speed_list = []\n",
    "comperhension_list = []\n"
   ]
  },
  {
   "cell_type": "code",
   "execution_count": 33,
   "metadata": {
    "collapsed": true,
    "slideshow": {
     "slide_type": "subslide"
    }
   },
   "outputs": [],
   "source": [
    "def calc_reading_speed(reading_time_in_seconds):\n",
    "    reading_time_in_minutes = reading_time_in_seconds / minute_in_seconds\n",
    "    reading_speed = default_wpm / reading_time_in_minutes\n",
    "    reading_speed = round(reading_speed)\n",
    "    return reading_speed"
   ]
  },
  {
   "cell_type": "code",
   "execution_count": 34,
   "metadata": {
    "collapsed": true
   },
   "outputs": [],
   "source": [
    "def calc_comperhension_percentage(correct_answers, percentage=False):\n",
    "    comperhension = correct_answers.count(1) / len(correct_answers)\n",
    "    if percentage:\n",
    "        comperhension = round(comperhension * 100, 2)\n",
    "    \n",
    "    return comperhension"
   ]
  },
  {
   "cell_type": "code",
   "execution_count": 35,
   "metadata": {
    "collapsed": false
   },
   "outputs": [
    {
     "name": "stdout",
     "output_type": "stream",
     "text": [
      "480\n"
     ]
    }
   ],
   "source": [
    "reading_speed = calc_reading_speed(65)\n",
    "reading_speed_list.append(reading_speed)\n",
    "print(reading_speed)"
   ]
  },
  {
   "cell_type": "code",
   "execution_count": 36,
   "metadata": {
    "collapsed": false,
    "scrolled": true
   },
   "outputs": [
    {
     "name": "stdout",
     "output_type": "stream",
     "text": [
      "14.29\n"
     ]
    }
   ],
   "source": [
    "my_answers = ['a','b', 'd', 'a', 'a', 'a','e']\n",
    "correct_answers = [0,1,0,0,0,0,0]\n",
    "comperhension = calc_comperhension_percentage(correct_answers, True)\n",
    "comperhension_list.append(comperhension)\n",
    "print(comperhension)"
   ]
  },
  {
   "cell_type": "markdown",
   "metadata": {},
   "source": [
    "#### What areas would you like to see improvement on?\n",
    "\n",
    "I was really skipping words in this try, second was better, i remembered more from the text and also the answers.\n"
   ]
  },
  {
   "cell_type": "markdown",
   "metadata": {},
   "source": [
    "## Second try, more concentration"
   ]
  },
  {
   "cell_type": "code",
   "execution_count": 37,
   "metadata": {
    "collapsed": false
   },
   "outputs": [
    {
     "name": "stdout",
     "output_type": "stream",
     "text": [
      "254\n"
     ]
    }
   ],
   "source": [
    "reading_speed = calc_reading_speed(123)\n",
    "reading_speed_list.append(reading_speed)\n",
    "print(reading_speed)"
   ]
  },
  {
   "cell_type": "code",
   "execution_count": 38,
   "metadata": {
    "collapsed": false
   },
   "outputs": [
    {
     "name": "stdout",
     "output_type": "stream",
     "text": [
      "42.86\n"
     ]
    }
   ],
   "source": [
    "my_answers = ['a','b','d','c','d','a','e']\n",
    "correct_answers = [0,1,0,1,1,0,0]\n",
    "comperhension = calc_comperhension_percentage(correct_answers, True)\n",
    "comperhension_list.append(comperhension)\n",
    "print(comperhension)"
   ]
  },
  {
   "cell_type": "markdown",
   "metadata": {},
   "source": [
    "#### What areas would you like to see improvement on?\n",
    "I tend to skip the words, skip senteces all together and evaluate what is important or not. That has led me to have bad result and longer time for reading. also when the topic is boring my mind wanders off and i start skipping a lot."
   ]
  },
  {
   "cell_type": "markdown",
   "metadata": {},
   "source": [
    "#### Some charts and visualisations"
   ]
  },
  {
   "cell_type": "code",
   "execution_count": 39,
   "metadata": {
    "collapsed": false
   },
   "outputs": [
    {
     "data": {
      "text/plain": [
       "[14.29, 42.86]"
      ]
     },
     "execution_count": 39,
     "metadata": {},
     "output_type": "execute_result"
    }
   ],
   "source": [
    "comperhension_list"
   ]
  },
  {
   "cell_type": "code",
   "execution_count": 40,
   "metadata": {
    "collapsed": false
   },
   "outputs": [
    {
     "data": {
      "text/plain": [
       "[480, 254]"
      ]
     },
     "execution_count": 40,
     "metadata": {},
     "output_type": "execute_result"
    }
   ],
   "source": [
    "reading_speed_list"
   ]
  },
  {
   "cell_type": "code",
   "execution_count": 41,
   "metadata": {
    "collapsed": true
   },
   "outputs": [],
   "source": [
    "labels = ['First try', 'Second try']"
   ]
  },
  {
   "cell_type": "code",
   "execution_count": 42,
   "metadata": {
    "collapsed": false
   },
   "outputs": [
    {
     "data": {
      "image/png": "[encoded data removed]",
      "text/plain": [
       "<matplotlib.figure.Figure at 0x106712198>"
      ]
     },
     "metadata": {},
     "output_type": "display_data"
    }
   ],
   "source": [
    "y = comperhension_list\n",
    "x = np.arange(len(labels))\n",
    "width = 0.35\n",
    "plt.xticks(x,labels)\n",
    "plt.yticks(y)\n",
    "plt.ylabel('%')\n",
    "plt.title('Comperhension rate: higher is better')\n",
    "plt.bar(x, y, width)\n",
    "plt.show()"
   ]
  },
  {
   "cell_type": "code",
   "execution_count": 43,
   "metadata": {
    "collapsed": false
   },
   "outputs": [
    {
     "data": {
      "image/png": "[encoded data removed]",
      "text/plain": [
       "<matplotlib.figure.Figure at 0x1064b0400>"
      ]
     },
     "metadata": {},
     "output_type": "display_data"
    }
   ],
   "source": [
    "y = reading_speed_list\n",
    "x = np.arange(len(labels))\n",
    "width = 0.35\n",
    "plt.xticks(x,labels)\n",
    "plt.yticks(y)\n",
    "plt.ylabel('wpm')\n",
    "plt.title('Reading speed rate: higher is better')\n",
    "\n",
    "plt.bar(x, y, width, label='rateSpeed', color='orange')\n",
    "plt.legend()\n",
    "plt.show()"
   ]
  },
  {
   "cell_type": "code",
   "execution_count": null,
   "metadata": {
    "collapsed": true
   },
   "outputs": [],
   "source": []
  },
  {
   "cell_type": "code",
   "execution_count": null,
   "metadata": {
    "collapsed": true
   },
   "outputs": [],
   "source": []
  },
  {
   "cell_type": "code",
   "execution_count": null,
   "metadata": {
    "collapsed": true
   },
   "outputs": [],
   "source": []
  },
  {
   "cell_type": "code",
   "execution_count": null,
   "metadata": {
    "collapsed": true
   },
   "outputs": [],
   "source": []
  }
 ],
 "metadata": {
  "celltoolbar": "Raw Cell Format",
  "kernelspec": {
   "display_name": "Python 3",
   "language": "python",
   "name": "python3"
  },
  "language_info": {
   "codemirror_mode": {
    "name": "ipython",
    "version": 3
   },
   "file_extension": ".py",
   "mimetype": "text/x-python",
   "name": "python",
   "nbconvert_exporter": "python",
   "pygments_lexer": "ipython3",
   "version": "3.5.2"
  }
 },
 "nbformat": 4,
 "nbformat_minor": 2
}
